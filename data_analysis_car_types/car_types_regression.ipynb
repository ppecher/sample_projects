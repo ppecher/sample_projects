{
 "cells": [
  {
   "attachments": {},
   "cell_type": "markdown",
   "metadata": {},
   "source": [
    "## Regression Car Types\n",
    "\n"
   ]
  },
  {
   "cell_type": "code",
   "execution_count": 10,
   "metadata": {},
   "outputs": [
    {
     "data": {
      "text/html": [
       "<div>\n",
       "<style scoped>\n",
       "    .dataframe tbody tr th:only-of-type {\n",
       "        vertical-align: middle;\n",
       "    }\n",
       "\n",
       "    .dataframe tbody tr th {\n",
       "        vertical-align: top;\n",
       "    }\n",
       "\n",
       "    .dataframe thead th {\n",
       "        text-align: right;\n",
       "    }\n",
       "</style>\n",
       "<table border=\"1\" class=\"dataframe\">\n",
       "  <thead>\n",
       "    <tr style=\"text-align: right;\">\n",
       "      <th></th>\n",
       "      <th>dateCrawled</th>\n",
       "      <th>name</th>\n",
       "      <th>seller</th>\n",
       "      <th>offerType</th>\n",
       "      <th>price</th>\n",
       "      <th>abtest</th>\n",
       "      <th>vehicleType</th>\n",
       "      <th>yearOfRegistration</th>\n",
       "      <th>gearbox</th>\n",
       "      <th>powerPS</th>\n",
       "      <th>model</th>\n",
       "      <th>kilometer</th>\n",
       "      <th>monthOfRegistration</th>\n",
       "      <th>fuelType</th>\n",
       "      <th>brand</th>\n",
       "      <th>notRepairedDamage</th>\n",
       "      <th>dateCreated</th>\n",
       "      <th>nrOfPictures</th>\n",
       "      <th>postalCode</th>\n",
       "      <th>lastSeen</th>\n",
       "    </tr>\n",
       "  </thead>\n",
       "  <tbody>\n",
       "    <tr>\n",
       "      <th>3</th>\n",
       "      <td>2016-03-17 16:54:04</td>\n",
       "      <td>GOLF_4_1_4__3TÜRER</td>\n",
       "      <td>privat</td>\n",
       "      <td>Angebot</td>\n",
       "      <td>1500</td>\n",
       "      <td>test</td>\n",
       "      <td>kleinwagen</td>\n",
       "      <td>2001</td>\n",
       "      <td>manuell</td>\n",
       "      <td>75</td>\n",
       "      <td>golf</td>\n",
       "      <td>150000</td>\n",
       "      <td>6</td>\n",
       "      <td>benzin</td>\n",
       "      <td>volkswagen</td>\n",
       "      <td>nein</td>\n",
       "      <td>2016-03-17 00:00:00</td>\n",
       "      <td>0</td>\n",
       "      <td>91074</td>\n",
       "      <td>2016-03-17 17:40:17</td>\n",
       "    </tr>\n",
       "    <tr>\n",
       "      <th>4</th>\n",
       "      <td>2016-03-31 17:25:20</td>\n",
       "      <td>Skoda_Fabia_1.4_TDI_PD_Classic</td>\n",
       "      <td>privat</td>\n",
       "      <td>Angebot</td>\n",
       "      <td>3600</td>\n",
       "      <td>test</td>\n",
       "      <td>kleinwagen</td>\n",
       "      <td>2008</td>\n",
       "      <td>manuell</td>\n",
       "      <td>69</td>\n",
       "      <td>fabia</td>\n",
       "      <td>90000</td>\n",
       "      <td>7</td>\n",
       "      <td>diesel</td>\n",
       "      <td>skoda</td>\n",
       "      <td>nein</td>\n",
       "      <td>2016-03-31 00:00:00</td>\n",
       "      <td>0</td>\n",
       "      <td>60437</td>\n",
       "      <td>2016-04-06 10:17:21</td>\n",
       "    </tr>\n",
       "    <tr>\n",
       "      <th>17</th>\n",
       "      <td>2016-03-20 10:25:19</td>\n",
       "      <td>Renault_Twingo_1.2_16V_Aut.</td>\n",
       "      <td>privat</td>\n",
       "      <td>Angebot</td>\n",
       "      <td>1750</td>\n",
       "      <td>control</td>\n",
       "      <td>kleinwagen</td>\n",
       "      <td>2004</td>\n",
       "      <td>automatik</td>\n",
       "      <td>75</td>\n",
       "      <td>twingo</td>\n",
       "      <td>150000</td>\n",
       "      <td>2</td>\n",
       "      <td>benzin</td>\n",
       "      <td>renault</td>\n",
       "      <td>nein</td>\n",
       "      <td>2016-03-20 00:00:00</td>\n",
       "      <td>0</td>\n",
       "      <td>65599</td>\n",
       "      <td>2016-04-06 13:16:07</td>\n",
       "    </tr>\n",
       "    <tr>\n",
       "      <th>23</th>\n",
       "      <td>2016-03-12 19:43:07</td>\n",
       "      <td>Stadtflitzer</td>\n",
       "      <td>privat</td>\n",
       "      <td>Angebot</td>\n",
       "      <td>450</td>\n",
       "      <td>test</td>\n",
       "      <td>kleinwagen</td>\n",
       "      <td>1997</td>\n",
       "      <td>manuell</td>\n",
       "      <td>50</td>\n",
       "      <td>arosa</td>\n",
       "      <td>150000</td>\n",
       "      <td>5</td>\n",
       "      <td>benzin</td>\n",
       "      <td>seat</td>\n",
       "      <td>nein</td>\n",
       "      <td>2016-03-12 00:00:00</td>\n",
       "      <td>0</td>\n",
       "      <td>9526</td>\n",
       "      <td>2016-03-21 01:46:11</td>\n",
       "    </tr>\n",
       "    <tr>\n",
       "      <th>29</th>\n",
       "      <td>2016-03-08 19:55:19</td>\n",
       "      <td>Fiat_Punto_1.2</td>\n",
       "      <td>privat</td>\n",
       "      <td>Angebot</td>\n",
       "      <td>690</td>\n",
       "      <td>test</td>\n",
       "      <td>kleinwagen</td>\n",
       "      <td>2003</td>\n",
       "      <td>manuell</td>\n",
       "      <td>60</td>\n",
       "      <td>punto</td>\n",
       "      <td>150000</td>\n",
       "      <td>3</td>\n",
       "      <td>benzin</td>\n",
       "      <td>fiat</td>\n",
       "      <td>nein</td>\n",
       "      <td>2016-03-08 00:00:00</td>\n",
       "      <td>0</td>\n",
       "      <td>86199</td>\n",
       "      <td>2016-03-09 11:45:28</td>\n",
       "    </tr>\n",
       "  </tbody>\n",
       "</table>\n",
       "</div>"
      ],
      "text/plain": [
       "            dateCrawled                            name  seller offerType  \\\n",
       "3   2016-03-17 16:54:04              GOLF_4_1_4__3TÜRER  privat   Angebot   \n",
       "4   2016-03-31 17:25:20  Skoda_Fabia_1.4_TDI_PD_Classic  privat   Angebot   \n",
       "17  2016-03-20 10:25:19     Renault_Twingo_1.2_16V_Aut.  privat   Angebot   \n",
       "23  2016-03-12 19:43:07                    Stadtflitzer  privat   Angebot   \n",
       "29  2016-03-08 19:55:19                  Fiat_Punto_1.2  privat   Angebot   \n",
       "\n",
       "    price   abtest vehicleType  yearOfRegistration    gearbox  powerPS  \\\n",
       "3    1500     test  kleinwagen                2001    manuell       75   \n",
       "4    3600     test  kleinwagen                2008    manuell       69   \n",
       "17   1750  control  kleinwagen                2004  automatik       75   \n",
       "23    450     test  kleinwagen                1997    manuell       50   \n",
       "29    690     test  kleinwagen                2003    manuell       60   \n",
       "\n",
       "     model  kilometer  monthOfRegistration fuelType       brand  \\\n",
       "3     golf     150000                    6   benzin  volkswagen   \n",
       "4    fabia      90000                    7   diesel       skoda   \n",
       "17  twingo     150000                    2   benzin     renault   \n",
       "23   arosa     150000                    5   benzin        seat   \n",
       "29   punto     150000                    3   benzin        fiat   \n",
       "\n",
       "   notRepairedDamage          dateCreated  nrOfPictures  postalCode  \\\n",
       "3               nein  2016-03-17 00:00:00             0       91074   \n",
       "4               nein  2016-03-31 00:00:00             0       60437   \n",
       "17              nein  2016-03-20 00:00:00             0       65599   \n",
       "23              nein  2016-03-12 00:00:00             0        9526   \n",
       "29              nein  2016-03-08 00:00:00             0       86199   \n",
       "\n",
       "               lastSeen  \n",
       "3   2016-03-17 17:40:17  \n",
       "4   2016-04-06 10:17:21  \n",
       "17  2016-04-06 13:16:07  \n",
       "23  2016-03-21 01:46:11  \n",
       "29  2016-03-09 11:45:28  "
      ]
     },
     "execution_count": 10,
     "metadata": {},
     "output_type": "execute_result"
    }
   ],
   "source": [
    "import numpy as np\n",
    "import seaborn as sns\n",
    "import pandas as pd\n",
    "\n",
    "df = pd.read_csv(\"../data/Autos/autos.csv.bz2\", encoding = \"iso-8859-1\")\n",
    "\n",
    "df = df[df[\"offerType\"] == \"Angebot\"]\n",
    "df = df[df[\"vehicleType\"] == \"kleinwagen\"]\n",
    "df = df[df[\"notRepairedDamage\"] == \"nein\"]\n",
    "df = df[(df[\"fuelType\"] == \"benzin\") | (df[\"fuelType\"] == \"diesel\") | (df[\"fuelType\"] == \"hybrid\")]\n",
    "df.dropna(inplace = True)\n",
    "\n",
    "df.head()"
   ]
  },
  {
   "cell_type": "code",
   "execution_count": 6,
   "metadata": {},
   "outputs": [
    {
     "data": {
      "text/plain": [
       "array(['manuell', 'automatik'], dtype=object)"
      ]
     },
     "execution_count": 6,
     "metadata": {},
     "output_type": "execute_result"
    }
   ],
   "source": [
    "df[\"gearbox\"].unique()"
   ]
  },
  {
   "cell_type": "code",
   "execution_count": 27,
   "metadata": {},
   "outputs": [],
   "source": [
    "from sklearn.preprocessing import OneHotEncoder\n",
    "from sklearn.compose import ColumnTransformer\n",
    "\n",
    "X = df[[\"kilometer\", \"yearOfRegistration\", \"brand\", \"gearbox\", \"fuelType\"]]\n",
    "\n",
    "cf = ColumnTransformer([\n",
    "    (\"brand\", OneHotEncoder(drop = \"first\"), [\"brand\"]),\n",
    "    (\"gearbox\", OneHotEncoder(drop = \"first\"), [\"gearbox\"]),\n",
    "    (\"fuelType\", OneHotEncoder(drop = \"first\"), [\"fuelType\"])\n",
    "], remainder = \"passthrough\")\n",
    " \n",
    "cf.fit(X)\n",
    "\n",
    "X_transformed = cf.transform(X)"
   ]
  },
  {
   "cell_type": "code",
   "execution_count": 28,
   "metadata": {},
   "outputs": [
    {
     "name": "stdout",
     "output_type": "stream",
     "text": [
      "0.6828659410639056\n"
     ]
    }
   ],
   "source": [
    "from sklearn.model_selection import train_test_split\n",
    "from sklearn.linear_model import LinearRegression\n",
    "\n",
    "y = df[\"price\"]\n",
    "\n",
    "scores = []\n",
    "for i in range(0, 1000):\n",
    "\n",
    "    X_train, X_test, y_train, y_test = train_test_split(X_transformed, y, train_size = 0.75)\n",
    "\n",
    "    model = LinearRegression()\n",
    "    model.fit(X_train, y_train)\n",
    "\n",
    "    scores.append(model.score(X_test, y_test))\n",
    "    \n",
    "print(np.mean(scores))"
   ]
  },
  {
   "cell_type": "code",
   "execution_count": 30,
   "metadata": {},
   "outputs": [
    {
     "data": {
      "text/plain": [
       "LinearRegression(copy_X=True, fit_intercept=True, n_jobs=None, normalize=False)"
      ]
     },
     "execution_count": 30,
     "metadata": {},
     "output_type": "execute_result"
    }
   ],
   "source": [
    "from sklearn.model_selection import train_test_split\n",
    "from sklearn.linear_model import LinearRegression\n",
    "\n",
    "X_train, X_test, y_train, y_test = train_test_split(X_transformed, y, train_size = 0.75)\n",
    "\n",
    "model = LinearRegression()\n",
    "model.fit(X_train, y_train)"
   ]
  },
  {
   "cell_type": "code",
   "execution_count": 35,
   "metadata": {},
   "outputs": [
    {
     "data": {
      "text/plain": [
       "array([4554.42046759])"
      ]
     },
     "execution_count": 35,
     "metadata": {},
     "output_type": "execute_result"
    }
   ],
   "source": [
    "X_pred = pd.DataFrame([\n",
    "    [150000, 2000, \"bmw\", \"automatik\", \"benzin\"]\n",
    "], columns = [\"kilometer\", \"yearOfRegistration\", \"brand\", \"gearbox\", \"fuelType\"])\n",
    "\n",
    "model.predict(cf.transform(X_pred))"
   ]
  },
  {
   "cell_type": "code",
   "execution_count": null,
   "metadata": {},
   "outputs": [],
   "source": []
  }
 ],
 "metadata": {
  "kernelspec": {
   "display_name": "Python 3",
   "language": "python",
   "name": "python3"
  },
  "language_info": {
   "codemirror_mode": {
    "name": "ipython",
    "version": 3
   },
   "file_extension": ".py",
   "mimetype": "text/x-python",
   "name": "python",
   "nbconvert_exporter": "python",
   "pygments_lexer": "ipython3",
   "version": "3.7.7"
  }
 },
 "nbformat": 4,
 "nbformat_minor": 4
}
