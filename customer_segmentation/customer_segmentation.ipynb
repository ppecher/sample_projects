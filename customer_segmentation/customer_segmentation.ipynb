{
 "cells": [
  {
   "cell_type": "code",
   "execution_count": null,
   "metadata": {},
   "outputs": [],
   "source": [
    "\n",
    "import pandas as pd\n",
    "import seaborn as sns\n",
    "import matplotlib.pyplot as plt\n",
    "import plotly.express as px\n",
    "import numpy as np"
   ]
  },
  {
   "cell_type": "code",
   "execution_count": null,
   "metadata": {},
   "outputs": [],
   "source": [
    "#Fragen Aufgabenstellung:\n",
    "        \n",
    "    #Können wir aus den Bondaten irgendwelche Erkenntisse gewinnen? -> Unsupervised RFM Analyse\n",
    "    #Gibt es Kuden, die sehr stark in bestimmten Warengruppen kaufen? -> EDA\n",
    "    #Gibt es Kunden die immer nur zu bestimmten Tagen oder Monaten bei uns einkaufen? -> EDA\n",
    "    \n",
    "\n",
    "#Vorgehen\n",
    "# 1. Hochladen und erste Anpassungen an den Daten\n",
    "# 2. Verstehen der Daten\n",
    "# 3. Vorbereitung der Daten \n",
    "# 4. EDA\n",
    "    #4.1. Wochentage\n",
    "    #4.2. Monate\n",
    "    #4.3. Produktgruppen\n",
    "# 5. Kundensegmentierung Analyse\n",
    "#RFM Analysis:\n",
    "    #1. Wann wurde der letzte Einkauf getätigt\n",
    "    #2. Wie oft wurde etwas gekauft\n",
    "    #3. Wie viel Geld wird im Durschnitt Ausgegeben"
   ]
  },
  {
   "cell_type": "code",
   "execution_count": null,
   "metadata": {},
   "outputs": [],
   "source": [
    "#1.\n",
    "\n",
    "#import of csv files \n",
    "\n",
    "bondaten = pd.read_csv(\"Bondaten.CSV\", delimiter=';')\n",
    "\n",
    "artikelstamm = pd.read_csv(\"Artikelstamm.csv\", encoding='latin-1', delimiter=';')\n"
   ]
  },
  {
   "cell_type": "code",
   "execution_count": null,
   "metadata": {},
   "outputs": [],
   "source": [
    "#2\n",
    "#Join Bondaten/Artikelstamm zu Kundeninformationen\n",
    "\n",
    "\n",
    "kundeninfo = bondaten.merge(artikelstamm, how='left', on ='ArtikelID')\n",
    "\n",
    "kundeninfo.head()\n",
    "\n",
    "#kundeninfo.describe()\n",
    "\n",
    "\n",
    "# 1. Kaufdatum\n",
    "# 2. Unique ID des Bon\n",
    "# 3. Unique ID des Kunden\n",
    "# 4. Unique ID des Artikels\n",
    "# 5. Gekaufte Menge\n",
    "# 6. Gesamt Netto Umsatz (Menge*Stückpreis -> Stückpreis = Umsatz/Menge)\n",
    "# 7. Bereich des Artikels\n",
    "# 8. Thema des Artikels\n",
    "# 9. Unterthema des Artikels\n",
    "\n"
   ]
  },
  {
   "cell_type": "code",
   "execution_count": null,
   "metadata": {},
   "outputs": [],
   "source": [
    "#Test ob es Produktgruppen gibt die nicht gekauft wurden\n",
    "\n",
    "test = bondaten.merge(artikelstamm, how='right', on ='ArtikelID')\n",
    "\n",
    "\n",
    "print(test.head())\n",
    "\n",
    "print(test['Bereich'].isnull().values.any())"
   ]
  },
  {
   "cell_type": "code",
   "execution_count": null,
   "metadata": {},
   "outputs": [],
   "source": [
    "#3.\n",
    "#Basis unterstanding and transfomation of data\n",
    "\n",
    "#Change data types\n",
    "\n",
    "#date time\n",
    "kundeninfo[\"Datum\"] = pd.to_datetime(kundeninfo[\"Datum\"], format ='%Y%m%d')\n",
    "\n",
    "#IDs as object for better handeling\n",
    "kundeninfo['BonID'] = kundeninfo['BonID'].astype(object)\n",
    "\n",
    "kundeninfo['KundenID'] = kundeninfo['KundenID'].astype(object)\n",
    "\n",
    "kundeninfo['ArtikelID'] = kundeninfo['ArtikelID'].astype(object)\n",
    "\n",
    "#information about revene and quantity to float\n",
    "kundeninfo['Umsatz'] = kundeninfo['Umsatz'].str.replace(',', '.').astype(float)\n",
    "\n",
    "#kundeninfo['Umsatz'] = pd.to_numeric(kundeninfo['Umsatz'],errors='coerce')\n",
    "\n",
    "kundeninfo['Menge'] = pd.to_numeric(kundeninfo['Menge'],errors='coerce')\n",
    "\n",
    "\n",
    "kundeninfo['Monat'] = pd.DatetimeIndex(kundeninfo['Datum']).month\n",
    "\n",
    "kundeninfo['Jahr'] = pd.DatetimeIndex(kundeninfo['Datum']).year\n",
    "\n",
    "kundeninfo['Wochentag'] = pd.DatetimeIndex(kundeninfo['Datum']).dayofweek\n",
    "\n",
    "#print(kundeninfo['Bereich'].unique())\n",
    "\n",
    "\n",
    "#print(kundeninfo['Thema'].unique())"
   ]
  },
  {
   "cell_type": "code",
   "execution_count": null,
   "metadata": {},
   "outputs": [],
   "source": [
    "#4.1. Wochentage \n",
    "\n",
    "umsatz_tag = verkaufinfo.groupby(['Wochentag','KundenID'], as_index = False)['Umsatz'].sum()\n",
    "\n",
    "umsatz_tag = umsatz_tag.sort_values(['KundenID','Umsatz'])\n",
    "\n",
    "#umsatz_monat['rank_Monat'] = umsatz_monat.groupby(['KundenID'], as_index = False)['Umsatz'].rank(method='min').astype(int)\n",
    "umsatz_tag['rank_Tag'] = umsatz_tag.groupby(['KundenID'], as_index = False)['Umsatz'].cumcount(ascending=False) + 1\n",
    "\n",
    "\n",
    "umsatz_tag_best = umsatz_tag.loc[umsatz_tag['rank_Tag'] == 1]"
   ]
  },
  {
   "cell_type": "code",
   "execution_count": null,
   "metadata": {},
   "outputs": [],
   "source": [
    "   \n",
    "#Summe bester Tag berücksichtigt  \n",
    "sns.barplot(x='Wochentag'\n",
    "             , y='Umsatz'\n",
    "             , data = umsatz_tag_best\n",
    "              ,estimator = np.sum\n",
    "            ,errorbar=('ci', 0)\n",
    "             )  \n",
    "    "
   ]
  },
  {
   "cell_type": "code",
   "execution_count": null,
   "metadata": {},
   "outputs": [],
   "source": [
    "sns.countplot(x='Wochentag', data=umsatz_tag_best)"
   ]
  },
  {
   "cell_type": "code",
   "execution_count": null,
   "metadata": {},
   "outputs": [],
   "source": [
    "\n",
    "#Summe aller Umsätze berücksichtigt   \n",
    "sns.barplot(x='Wochentag'\n",
    "             , y='Umsatz'\n",
    "             , data = umsatz_tag\n",
    "              ,estimator = np.sum\n",
    "            ,errorbar=('ci', 0)\n",
    "            \n",
    "             )  "
   ]
  },
  {
   "cell_type": "code",
   "execution_count": null,
   "metadata": {},
   "outputs": [],
   "source": [
    "#4.2. Monat\n",
    "\n",
    "umsatz_monat = verkaufinfo.groupby(['Monat','KundenID'], as_index = False)['Umsatz'].sum()\n",
    "\n",
    "umsatz_monat = umsatz_monat.sort_values(['KundenID','Umsatz'])\n",
    "\n",
    "umsatz_monat['rank_Monat'] = umsatz_monat.groupby(['KundenID'], as_index = False)['Umsatz'].cumcount(ascending=False) + 1\n",
    "\n",
    "\n",
    "umsatz_monat_best = umsatz_monat.loc[umsatz_monat['rank_Monat'] == 1]"
   ]
  },
  {
   "cell_type": "code",
   "execution_count": null,
   "metadata": {},
   "outputs": [],
   "source": [
    "#Summe bester Monat berücksichtigt  \n",
    "sns.barplot(x='Monat'\n",
    "             , y='Umsatz'\n",
    "             , data = umsatz_monat_best\n",
    "              ,estimator = np.sum\n",
    "            ,errorbar=('ci', 0)\n",
    "             )  \n"
   ]
  },
  {
   "cell_type": "code",
   "execution_count": null,
   "metadata": {},
   "outputs": [],
   "source": [
    "sns.countplot(x='Monat', data=umsatz_monat_best)"
   ]
  },
  {
   "cell_type": "code",
   "execution_count": null,
   "metadata": {},
   "outputs": [],
   "source": [
    "#Summe aller Umsätze berücksichtigt   \n",
    "sns.barplot(x='Monat'\n",
    "             , y='Umsatz'\n",
    "             , data = umsatz_monat\n",
    "              ,estimator = np.sum\n",
    "            ,errorbar=('ci', 0)\n",
    "            \n",
    "             )  "
   ]
  },
  {
   "cell_type": "code",
   "execution_count": null,
   "metadata": {},
   "outputs": [],
   "source": [
    "#4.3. Bereich, Thema, Unterthema\n",
    "\n",
    "\n",
    "bereich_info = kundeninfo[['KundenID','Bereich','Umsatz']]\n",
    "\n",
    "thema_info = kundeninfo[['KundenID','Thema','Umsatz']]\n",
    "\n",
    "uthema_info = kundeninfo[['KundenID','Unterthema','Umsatz']]\n",
    "\n",
    "\n",
    "\n",
    "umsatz_bereich = bereich_info.groupby(['KundenID','Bereich'], as_index = False)['Umsatz'].sum()\n",
    "\n",
    "umsatz_thema = thema_info.groupby(['KundenID' ,'Thema'], as_index = False)['Umsatz'].sum()\n",
    "\n",
    "umsatz_uthema = uthema_info.groupby(['KundenID','Unterthema'], as_index = False)['Umsatz'].sum()\n",
    "\n",
    "\n",
    "umsatz_bereich = umsatz_bereich.sort_values(['KundenID','Umsatz'])\n",
    "umsatz_bereich['rank_Bereich'] = umsatz_bereich.groupby(['KundenID'], as_index = False)['Umsatz'].cumcount(ascending=False) + 1\n",
    "\n",
    "umsatz_bereich_best = umsatz_bereich.loc[umsatz_bereich['rank_Bereich'] == 1]\n",
    "\n",
    "\n",
    "umsatz_thema = umsatz_thema.sort_values(['KundenID','Umsatz'])\n",
    "umsatz_thema['rank_Thema'] = umsatz_thema.groupby(['KundenID'], as_index = False)['Umsatz'].cumcount(ascending=False) + 1\n",
    "\n",
    "umsatz_thema_best = umsatz_thema.loc[umsatz_thema['rank_Thema'] == 1]\n",
    "\n",
    "\n",
    "umsatz_uthema = umsatz_uthema.sort_values(['KundenID','Umsatz'])\n",
    "umsatz_uthema['rank_Uthema'] = umsatz_uthema.groupby(['KundenID'], as_index = False)['Umsatz'].cumcount(ascending=False) + 1\n",
    "\n",
    "umsatz_uthema_best = umsatz_uthema.loc[umsatz_uthema['rank_Uthema'] == 1]\n",
    "\n",
    "\n",
    "print(umsatz_bereich.loc[umsatz_bereich['KundenID'] == 22392])"
   ]
  },
  {
   "cell_type": "code",
   "execution_count": null,
   "metadata": {},
   "outputs": [],
   "source": [
    "sns.barplot(x='Bereich'\n",
    "             , y='Umsatz'\n",
    "             , data = umsatz_bereich\n",
    "              ,estimator = np.sum\n",
    "            ,errorbar=('ci', 0)\n",
    "            \n",
    "             )  "
   ]
  },
  {
   "cell_type": "code",
   "execution_count": null,
   "metadata": {},
   "outputs": [],
   "source": [
    "sns.countplot(x='Bereich', data=umsatz_bereich_best)"
   ]
  },
  {
   "cell_type": "code",
   "execution_count": null,
   "metadata": {},
   "outputs": [],
   "source": [
    "sns.countplot(x='Thema', data=umsatz_thema_best)"
   ]
  },
  {
   "cell_type": "code",
   "execution_count": null,
   "metadata": {},
   "outputs": [],
   "source": [
    "sns.barplot(x='Unterthema'\n",
    "             , y='Umsatz'\n",
    "             , data = umsatz_uthema\n",
    "              ,estimator = np.sum\n",
    "            ,errorbar=('ci', 0)\n",
    "             ) "
   ]
  },
  {
   "cell_type": "code",
   "execution_count": null,
   "metadata": {},
   "outputs": [],
   "source": [
    "sns.countplot(x='Unterthema', data=umsatz_uthema_best)"
   ]
  },
  {
   "cell_type": "code",
   "execution_count": null,
   "metadata": {},
   "outputs": [],
   "source": [
    "#5. Kundensegmentierung mit K-Means \n",
    "\n",
    "\n",
    "##Zuerst auf eine BonID bringen\n",
    "\n",
    "#Berechnung des letzten Einkaufs\n",
    "\n",
    "kauf_info = kundeninfo.groupby(['Datum','KundenID', 'BonID'], as_index = False)['Umsatz'].sum()\n",
    "\n",
    "\n",
    "kauf_info = kauf_info.sort_values(['KundenID','Datum'])\n",
    "kauf_info['rank_Kauf'] = kauf_info.groupby(['KundenID'], as_index = False)['Datum'].cumcount(ascending=False) + 1\n",
    "\n",
    "kauf_info_last = kauf_info.loc[kauf_info['rank_Kauf'] == 1]\n",
    "\n",
    "\n",
    "\n",
    "\n",
    "kauf_info_last.loc['LetzterKauf'] = (pd.to_datetime(max(kauf_info_last['Datum'])) - kauf_info_last['Datum'] ).dt.days\n",
    "\n"
   ]
  },
  {
   "cell_type": "code",
   "execution_count": null,
   "metadata": {},
   "outputs": [],
   "source": [
    "#Berechnung der Frequenz\n",
    "\n",
    "freq = kauf_info.groupby('KundenID')['Datum'].count()\n",
    "\n",
    "ki_freq = pd.DataFrame(freq).reset_index()\n",
    "ki_freq.columns = ['KundenID','Frequenz']\n",
    "\n",
    "\n",
    "last_freq = ki_freq.merge(kauf_info_last,on='KundenID')\n",
    "\n",
    "\n",
    "print(last_freq.loc[last_freq['KundenID'] == 22392])"
   ]
  },
  {
   "cell_type": "code",
   "execution_count": null,
   "metadata": {},
   "outputs": [],
   "source": [
    "#Berechnung des Einkaufswerts\n",
    "\n",
    "\n",
    "m = kauf_info.groupby('KundenID', as_index = False)['Umsatz'].sum()\n",
    "\n",
    "m.columns = ['KundenID','Umsatz_Gesamt']\n",
    "\n",
    "print(m.loc[m['KundenID'] == 22392])"
   ]
  },
  {
   "cell_type": "code",
   "execution_count": null,
   "metadata": {},
   "outputs": [],
   "source": [
    "#Data Frame zur Auswertung erstellen\n",
    "\n",
    "rfm = m.merge(last_freq,on='KundenID')\n",
    "\n",
    "finaldf = rfm[['KundenID','LetzterKauf','Frequenz','Umsatz_Gesamt']]\n",
    "\n",
    "print(finaldf.loc[finaldf['KundenID'] == 22392])"
   ]
  },
  {
   "cell_type": "code",
   "execution_count": null,
   "metadata": {},
   "outputs": [],
   "source": [
    "#Outliers löschen\n",
    "\n",
    "import seaborn as sns\n",
    "import matplotlib.pyplot as plt\n",
    "\n",
    "list1 = ['LetzterKauf','Frequenz','Umsatz_Gesamt']\n",
    "for i in list1:\n",
    "    print(str(i)+': ')\n",
    "    ax = sns.boxplot(x=finaldf[str(i)])\n",
    "    plt.show()"
   ]
  },
  {
   "cell_type": "code",
   "execution_count": null,
   "metadata": {},
   "outputs": [],
   "source": [
    "from sklearn.preprocessing import StandardScaler\n",
    "\n",
    "new_df = new_df.drop_duplicates()\n",
    "col_names = ['LetzterKauf','Frequenz','Umsatz_Gesamt']\n",
    "features = new_df[col_names]\n",
    "scaler = StandardScaler().fit(features.values)\n",
    "features = scaler.transform(features.values)\n",
    "scaled_features = pd.DataFrame(features, columns = col_names)\n",
    "\n",
    "scaled_features.head()"
   ]
  },
  {
   "cell_type": "code",
   "execution_count": null,
   "metadata": {},
   "outputs": [],
   "source": [
    "import matplotlib.pyplot as plt\n",
    "from sklearn.datasets import make_blobs\n",
    "from sklearn.cluster import KMeans\n",
    "from sklearn.metrics import silhouette_score\n",
    "from sklearn.decomposition import PCA\n",
    "from mpl_toolkits.mplot3d import Axes3D\n",
    "\n",
    "SSE = []\n",
    "for cluster in range(1,10):\n",
    "    kmeans = KMeans(n_clusters = cluster, init='k-means++')\n",
    "    kmeans.fit(scaled_features)\n",
    "    SSE.append(kmeans.inertia_)\n",
    "    \n",
    "# converting the results into a dataframe and plotting them\n",
    "frame = pd.DataFrame({'Cluster':range(1,10), 'SSE':SSE})\n",
    "plt.figure(figsize=(12,6))\n",
    "plt.plot(frame['Cluster'], frame['SSE'], marker='o')\n",
    "plt.xlabel('Number of clusters')\n",
    "plt.ylabel('Inertia')"
   ]
  },
  {
   "cell_type": "code",
   "execution_count": null,
   "metadata": {},
   "outputs": [],
   "source": [
    "# First, build a model with 3 clusters\n",
    "kmeans = KMeans( n_clusters = 3, init='k-means++')\n",
    "kmeans.fit(scaled_features)"
   ]
  },
  {
   "cell_type": "code",
   "execution_count": null,
   "metadata": {},
   "outputs": [],
   "source": [
    "print(silhouette_score(scaled_features, kmeans.labels_, metric='euclidean'))\n",
    "\n",
    "#Silhouette score:\n",
    "    #3 Cluster: 0.54\n",
    "    #4 Cluster: 0.50\n",
    "\n",
    "    \n",
    "# --> Choose 4 Cluster"
   ]
  },
  {
   "cell_type": "code",
   "execution_count": null,
   "metadata": {},
   "outputs": [],
   "source": [
    "pred = kmeans.predict(scaled_features)\n",
    "frame = pd.DataFrame(new_df)\n",
    "frame['cluster'] = pred"
   ]
  },
  {
   "cell_type": "code",
   "execution_count": null,
   "metadata": {},
   "outputs": [],
   "source": [
    "avg_df = frame.groupby(['cluster'], as_index=False).mean()\n",
    "for i in list1:\n",
    "    sns.barplot(x='cluster',y=str(i),data=avg_df)\n",
    "    plt.show()"
   ]
  },
  {
   "cell_type": "code",
   "execution_count": null,
   "metadata": {},
   "outputs": [],
   "source": [
    "fig = px.scatter_3d(data_frame=frame, x=\"LetzterKauf\", \n",
    "                    y=\"Umsatz_Gesamt\", z=\"Frequenz\", color=\"cluster\", height=550,\n",
    "                   title = \"Ergebnis der Kundensegmentierung\")\n",
    "fig.show()"
   ]
  },
  {
   "cell_type": "code",
   "execution_count": null,
   "metadata": {},
   "outputs": [],
   "source": [
    "#Analyse aus KMeans\n",
    "\n",
    "#Wie viele Pro Cluster -> was würden 10% in welchem Cluster mehr bringen\n",
    "\n",
    "number = frame.groupby('cluster', as_index = False)['cluster'].count()\n",
    "\n",
    "\n",
    "#Gesamt Umsatz pro Clust -> was würde 10% Umsatz steigerung bringen\n",
    "\n",
    "umsatz = frame.groupby('cluster', as_index = False)['Umsatz_Gesamt'].sum()\n"
   ]
  }
 ],
 "metadata": {
  "language_info": {
   "name": "python"
  },
  "orig_nbformat": 4
 },
 "nbformat": 4,
 "nbformat_minor": 2
}
